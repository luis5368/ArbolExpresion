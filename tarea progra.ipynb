{
 "cells": [
  {
   "cell_type": "code",
   "execution_count": 2,
   "id": "1012c1ea",
   "metadata": {},
   "outputs": [
    {
     "name": "stdout",
     "output_type": "stream",
     "text": [
      "Ingresa una expresión aritmética: 1+2*3\n"
     ]
    },
    {
     "data": {
      "image/png": "[encoded data removed]",
      "text/plain": [
       "<IPython.core.display.Image object>"
      ]
     },
     "execution_count": 2,
     "metadata": {},
     "output_type": "execute_result"
    }
   ],
   "source": [
    "import graphviz\n",
    "from IPython.display import Image\n",
    "\n",
    "class Nodo:\n",
    "    def __init__(self, valor):\n",
    "        self.valor = valor\n",
    "        self.izquierda = None\n",
    "        self.derecha = None\n",
    "\n",
    "def construir_arbol_expresion(expresion):\n",
    "    expresion = expresion.replace(\" \", \"\")\n",
    "    return construir_sub_arbol(expresion)\n",
    "\n",
    "def construir_sub_arbol(expresion):\n",
    "    if not expresion:\n",
    "        return None\n",
    "    \n",
    "    operadores = {'+', '-', '*', '/'}\n",
    "    parentesis = 0\n",
    "    indice_operador = -1\n",
    "    for i, caracter in enumerate(reversed(expresion)):\n",
    "        if caracter == ')':\n",
    "            parentesis += 1\n",
    "        elif caracter == '(':\n",
    "            parentesis -= 1\n",
    "        elif caracter in operadores and parentesis == 0:\n",
    "            indice_operador = len(expresion) - i - 1\n",
    "            break\n",
    "    \n",
    "    if indice_operador == -1:\n",
    "        return Nodo(expresion)\n",
    "    \n",
    "    nodo = Nodo(expresion[indice_operador])\n",
    "    nodo.izquierda = construir_sub_arbol(expresion[:indice_operador])\n",
    "    nodo.derecha = construir_sub_arbol(expresion[indice_operador + 1:])\n",
    "    return nodo\n",
    "\n",
    "def generar_dot_arbol(raiz):\n",
    "    dot_arbol = graphviz.Digraph(comment='Árbol de Expresiones')\n",
    "    \n",
    "    def agregar_nodos(nodo):\n",
    "        if nodo:\n",
    "            dot_arbol.node(str(id(nodo)), str(nodo.valor))\n",
    "            if nodo.izquierda:\n",
    "                dot_arbol.edge(str(id(nodo)), str(id(nodo.izquierda)), label='Izq')\n",
    "                agregar_nodos(nodo.izquierda)\n",
    "            if nodo.derecha:\n",
    "                dot_arbol.edge(str(id(nodo)), str(id(nodo.derecha)), label='Der')\n",
    "                agregar_nodos(nodo.derecha)\n",
    "    \n",
    "    agregar_nodos(raiz)\n",
    "    return dot_arbol\n",
    "\n",
    "expresion = input(\"Ingresa una expresión aritmética: \")\n",
    "raiz_arbol = construir_arbol_expresion(expresion)\n",
    "dot_arbol = generar_dot_arbol(raiz_arbol)\n",
    "dot_arbol.render('arbol_expresion', format='png', cleanup=True)\n",
    "\n",
    "Image('arbol_expresion.png')\n"
   ]
  },
  {
   "cell_type": "code",
   "execution_count": null,
   "id": "08e5b4bd",
   "metadata": {},
   "outputs": [],
   "source": []
  }
 ],
 "metadata": {
  "kernelspec": {
   "display_name": "Python 3 (ipykernel)",
   "language": "python",
   "name": "python3"
  },
  "language_info": {
   "codemirror_mode": {
    "name": "ipython",
    "version": 3
   },
   "file_extension": ".py",
   "mimetype": "text/x-python",
   "name": "python",
   "nbconvert_exporter": "python",
   "pygments_lexer": "ipython3",
   "version": "3.11.5"
  }
 },
 "nbformat": 4,
 "nbformat_minor": 5
}
